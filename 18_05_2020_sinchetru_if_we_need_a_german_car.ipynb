{
 "cells": [
  {
   "cell_type": "markdown",
   "metadata": {
    "collapsed": true
   },
   "source": [
    "### Analyzing Used Car Listings on eBay Kleinanzeigen\n",
    "In this Project we will try to analyze a dataset of used cars scraped from *eBay Kleinanzeigen*.\n",
    "\n",
    "The data dictionary provided with data is as follows:\n",
    "* dateCrawled - When this ad was first crawled. All field-values are taken from this date.\n",
    "* name - Name of the car.\n",
    "* seller - Whether the seller is private or a dealer.\n",
    "* offerType - The type of listing\n",
    "* price - The price on the ad to sell the car.\n",
    "* abtest - Whether the listing is included in an A/B test.\n",
    "* vehicleType - The vehicle Type.\n",
    "* yearOfRegistration - The year in which the car was first registered.\n",
    "* gearbox - The transmission type.\n",
    "* powerPS - The power of the car in PS.\n",
    "* model - The car model name.\n",
    "* kilometer - How many kilometers the car has driven.\n",
    "* monthOfRegistration - The month in which the car was first registered.\n",
    "* fuelType - What type of fuel the car uses.\n",
    "* brand - The brand of the car.\n",
    "* notRepairedDamage - If the car has a damage which is not yet repaired.\n",
    "* dateCreated - The date on which the eBay listing was created.\n",
    "* nrOfPictures - The number of pictures in the ad.\n",
    "* postalCode - The postal code for the location of the vehicle.\n",
    "* lastSeenOnline - When the crawler saw this ad last online."
   ]
  },
  {
   "cell_type": "code",
   "execution_count": 78,
   "metadata": {
    "collapsed": false
   },
   "outputs": [],
   "source": [
    "#Importing modules\n",
    "%matplotlib inline \n",
    "import pandas as pd\n",
    "import numpy as np\n",
    "import matplotlib.pyplot as plt\n",
    "import seaborn as sns"
   ]
  },
  {
   "cell_type": "code",
   "execution_count": 79,
   "metadata": {
    "collapsed": false
   },
   "outputs": [
    {
     "name": "stdout",
     "output_type": "stream",
     "text": [
      "<class 'pandas.core.frame.DataFrame'>\n",
      "RangeIndex: 50000 entries, 0 to 49999\n",
      "Data columns (total 20 columns):\n",
      "dateCrawled            50000 non-null object\n",
      "name                   50000 non-null object\n",
      "seller                 50000 non-null object\n",
      "offerType              50000 non-null object\n",
      "price                  50000 non-null object\n",
      "abtest                 50000 non-null object\n",
      "vehicleType            44905 non-null object\n",
      "yearOfRegistration     50000 non-null int64\n",
      "gearbox                47320 non-null object\n",
      "powerPS                50000 non-null int64\n",
      "model                  47242 non-null object\n",
      "odometer               50000 non-null object\n",
      "monthOfRegistration    50000 non-null int64\n",
      "fuelType               45518 non-null object\n",
      "brand                  50000 non-null object\n",
      "notRepairedDamage      40171 non-null object\n",
      "dateCreated            50000 non-null object\n",
      "nrOfPictures           50000 non-null int64\n",
      "postalCode             50000 non-null int64\n",
      "lastSeen               50000 non-null object\n",
      "dtypes: int64(5), object(15)\n",
      "memory usage: 7.6+ MB\n"
     ]
    }
   ],
   "source": [
    "#Fixing the encoding error\n",
    "autos = pd.read_csv(\"autos.csv\", encoding=\"Latin-1\")\n",
    "autos.info()"
   ]
  },
  {
   "cell_type": "markdown",
   "metadata": {},
   "source": [
    "The dataset contains 20 columns, most of which are strings. We have also data that ist stored as *strig* - columns \"price\" and \"odometer\"  but it should be *numeric*. The column names use camelcase instead of Python's preferred snakecase, which means we can't just replace spaces with underscores."
   ]
  },
  {
   "cell_type": "code",
   "execution_count": 80,
   "metadata": {
    "collapsed": true
   },
   "outputs": [],
   "source": [
    "#Let's convert the column names from camelcase to snakecase and reword some of \n",
    "#the column names based on the data dictionary to be more descriptive.\n",
    "autos.rename(columns={\"dateCrawled\": \"date_crawled\",\n",
    "              \"offerType\": \"offer_type\",\n",
    "              \"vehicleType\": \"vehicle_type\",\n",
    "              \"yearOfRegistration\": \"registration_year\",\n",
    "              \"powerPS\": \"power_ps\",\n",
    "              \"fuelType\": \"fuel_type\",\n",
    "              \"monthOfRegistration\": \"registration_month\",\n",
    "              \"notRepairedDamage\": \"unrepaired_damage\",\n",
    "              \"dateCreated\": \"ad_created\",\n",
    "              \"odometer\": \"odometer_km\",\n",
    "              \"lastSeen\": \"last_seen\",\n",
    "              \"nrOfPictures\": \"num_photos\"\n",
    "             }, inplace=True)"
   ]
  },
  {
   "cell_type": "code",
   "execution_count": 81,
   "metadata": {
    "collapsed": false
   },
   "outputs": [],
   "source": [
    "#Fixing dtype errors\n",
    "autos[\"odometer_km\"] = autos[\"odometer_km\"].str.replace(\",\", \"\")\n",
    "autos[\"odometer_km\"] = autos[\"odometer_km\"].str.replace(\"km\", \"\").astype(int) \n",
    "\n",
    "autos[\"price\"] = autos[\"price\"].str.replace(\",\", \"\")\n",
    "autos[\"price\"] = autos[\"price\"].str.replace(\"$\", \"\").astype(int)"
   ]
  },
  {
   "cell_type": "markdown",
   "metadata": {},
   "source": [
    "There are three columns without usefull information because they contain values that are not unique, we will delete these columns from our data."
   ]
  },
  {
   "cell_type": "code",
   "execution_count": 82,
   "metadata": {
    "collapsed": false
   },
   "outputs": [
    {
     "data": {
      "text/plain": [
       "privat        49999\n",
       "gewerblich        1\n",
       "Name: seller, dtype: int64"
      ]
     },
     "execution_count": 82,
     "metadata": {},
     "output_type": "execute_result"
    }
   ],
   "source": [
    "autos.seller.value_counts()"
   ]
  },
  {
   "cell_type": "code",
   "execution_count": 83,
   "metadata": {
    "collapsed": false
   },
   "outputs": [],
   "source": [
    "autos = autos.drop([\"num_photos\", \"seller\", \"offer_type\"], axis=1)"
   ]
  },
  {
   "cell_type": "markdown",
   "metadata": {},
   "source": [
    "There are some important features like mileage, year and brand, that significantly influence the price, we will try to analyze them."
   ]
  },
  {
   "cell_type": "code",
   "execution_count": 116,
   "metadata": {
    "collapsed": false
   },
   "outputs": [
    {
     "data": {
      "text/plain": [
       "80000    2\n",
       "79999    1\n",
       "79980    1\n",
       "79933    1\n",
       "79500    1\n",
       "Name: price, dtype: int64"
      ]
     },
     "execution_count": 116,
     "metadata": {},
     "output_type": "execute_result"
    }
   ],
   "source": [
    "#Let's start with the \"price\" column\n",
    "autos.price.describe()\n",
    "autos.price.value_counts().sort_index(ascending=False).head(5)"
   ]
  },
  {
   "cell_type": "markdown",
   "metadata": {},
   "source": [
    "The prices 100 000 000 and 0 are not very realistic. The *price* column seems to contain outliers that should be removed. We will do the same thing for the 'year' column because we are not interested in a car that is an Oldtimer."
   ]
  },
  {
   "cell_type": "code",
   "execution_count": 86,
   "metadata": {
    "collapsed": true
   },
   "outputs": [],
   "source": [
    "autos = autos[autos[\"price\"].between(500, 80000)]\n",
    "autos = autos[autos[\"registration_year\"].between(1990, 2016)]"
   ]
  },
  {
   "cell_type": "code",
   "execution_count": 117,
   "metadata": {
    "collapsed": false
   },
   "outputs": [
    {
     "data": {
      "image/png": "[encoded data removed]",
      "text/plain": [
       "<matplotlib.figure.Figure at 0x7fdde260dcf8>"
      ]
     },
     "metadata": {},
     "output_type": "display_data"
    }
   ],
   "source": [
    "fig, ax = plt.subplots()\n",
    "\n",
    "ax.hist(autos[\"price\"], bins=20, range=(500, 80000))\n",
    "plt.show()"
   ]
  },
  {
   "cell_type": "markdown",
   "metadata": {},
   "source": [
    "It seems that the most of the offers are in the 500-20000$ range."
   ]
  },
  {
   "cell_type": "code",
   "execution_count": 118,
   "metadata": {
    "collapsed": false
   },
   "outputs": [
    {
     "data": {
      "image/png": "[encoded data removed]",
      "text/plain": [
       "<matplotlib.figure.Figure at 0x7fdddfe6d908>"
      ]
     },
     "metadata": {},
     "output_type": "display_data"
    }
   ],
   "source": [
    "fig, ax = plt.subplots()\n",
    "ax.hist(autos['odometer_km'])\n",
    "plt.show()"
   ]
  },
  {
   "cell_type": "markdown",
   "metadata": {
    "collapsed": true
   },
   "source": [
    "There are more vehicles with the mileage between 120,000 and 140,000 km than low mileage ones. NUsually a car travels on average 10000km per year. Let's see what is happening in the year's column and to search for a relationship between the year and the mileage."
   ]
  },
  {
   "cell_type": "code",
   "execution_count": 119,
   "metadata": {
    "collapsed": false
   },
   "outputs": [
    {
     "data": {
      "image/png": "[encoded data removed]",
      "text/plain": [
       "<matplotlib.figure.Figure at 0x7fdde2570e10>"
      ]
     },
     "metadata": {},
     "output_type": "display_data"
    }
   ],
   "source": [
    "fig, ax = plt.subplots()\n",
    "ax.hist(autos['registration_year'], bins=20)\n",
    "plt.show()"
   ]
  },
  {
   "cell_type": "markdown",
   "metadata": {},
   "source": [
    "The data was scrapped in 2016 and as we can see the most of the vehicles are already 8 -11 year old. So if we need a new car maybe it will be better to visit a showroom."
   ]
  },
  {
   "cell_type": "code",
   "execution_count": 120,
   "metadata": {
    "collapsed": false
   },
   "outputs": [
    {
     "name": "stderr",
     "output_type": "stream",
     "text": [
      "/dataquest/system/env/python3/lib/python3.4/site-packages/seaborn/categorical.py:454: FutureWarning: remove_na is deprecated and is a private function. Do not use.\n",
      "  box_data = remove_na(group_data)\n"
     ]
    },
    {
     "data": {
      "image/png": "[encoded data removed]",
      "text/plain": [
       "<matplotlib.figure.Figure at 0x7fddde585a58>"
      ]
     },
     "metadata": {},
     "output_type": "display_data"
    }
   ],
   "source": [
    "fig, ax = plt.subplots(figsize=(7,5))\n",
    "ax = sns.boxplot(x=\"gearbox\", y=\"price\", data=autos, showfliers=False)\n",
    "ax.set_ylabel('Price')\n",
    "ax.set_xlabel('Gearbox type')\n",
    "plt.show()"
   ]
  },
  {
   "cell_type": "markdown",
   "metadata": {},
   "source": [
    "If we want a cheaper car we have to think definitively of one with manual gearbox."
   ]
  },
  {
   "cell_type": "code",
   "execution_count": 121,
   "metadata": {
    "collapsed": false
   },
   "outputs": [
    {
     "name": "stderr",
     "output_type": "stream",
     "text": [
      "/dataquest/system/env/python3/lib/python3.4/site-packages/seaborn/categorical.py:454: FutureWarning: remove_na is deprecated and is a private function. Do not use.\n",
      "  box_data = remove_na(group_data)\n"
     ]
    },
    {
     "data": {
      "image/png": "[encoded data removed]",
      "text/plain": [
       "<matplotlib.figure.Figure at 0x7fdde2572358>"
      ]
     },
     "metadata": {},
     "output_type": "display_data"
    }
   ],
   "source": [
    "fig, ax = plt.subplots(figsize=(15,6))\n",
    "ax = sns.boxplot(x=\"fuel_type\", y=\"price\", data=autos, showfliers=False)\n",
    "ax.set_ylabel('Price')\n",
    "ax.set_xlabel('Fuel type')\n",
    "ax.set_ylim(0,32000)\n",
    "\n",
    "plt.show()"
   ]
  },
  {
   "cell_type": "markdown",
   "metadata": {},
   "source": [
    "Yes, trying to save the world and the enviroment it is not cheap at all. We will try to look further for the most popular brands on the market."
   ]
  },
  {
   "cell_type": "code",
   "execution_count": 90,
   "metadata": {
    "collapsed": false
   },
   "outputs": [],
   "source": [
    "#Let us select the top six most popular brand on the market\n",
    "top_six_brands = autos[\"brand\"].value_counts().head(6)"
   ]
  },
  {
   "cell_type": "code",
   "execution_count": 91,
   "metadata": {
    "collapsed": false
   },
   "outputs": [
    {
     "data": {
      "text/html": [
       "<div>\n",
       "<style scoped>\n",
       "    .dataframe tbody tr th:only-of-type {\n",
       "        vertical-align: middle;\n",
       "    }\n",
       "\n",
       "    .dataframe tbody tr th {\n",
       "        vertical-align: top;\n",
       "    }\n",
       "\n",
       "    .dataframe thead th {\n",
       "        text-align: right;\n",
       "    }\n",
       "</style>\n",
       "<table border=\"1\" class=\"dataframe\">\n",
       "  <thead>\n",
       "    <tr style=\"text-align: right;\">\n",
       "      <th></th>\n",
       "      <th>mean_price</th>\n",
       "      <th>mean_mileage</th>\n",
       "    </tr>\n",
       "  </thead>\n",
       "  <tbody>\n",
       "    <tr>\n",
       "      <th>audi</th>\n",
       "      <td>9643</td>\n",
       "      <td>128749</td>\n",
       "    </tr>\n",
       "    <tr>\n",
       "      <th>mercedes_benz</th>\n",
       "      <td>8574</td>\n",
       "      <td>131147</td>\n",
       "    </tr>\n",
       "    <tr>\n",
       "      <th>bmw</th>\n",
       "      <td>8478</td>\n",
       "      <td>133031</td>\n",
       "    </tr>\n",
       "    <tr>\n",
       "      <th>volkswagen</th>\n",
       "      <td>5780</td>\n",
       "      <td>128617</td>\n",
       "    </tr>\n",
       "    <tr>\n",
       "      <th>ford</th>\n",
       "      <td>3950</td>\n",
       "      <td>124620</td>\n",
       "    </tr>\n",
       "    <tr>\n",
       "      <th>opel</th>\n",
       "      <td>3374</td>\n",
       "      <td>128637</td>\n",
       "    </tr>\n",
       "  </tbody>\n",
       "</table>\n",
       "</div>"
      ],
      "text/plain": [
       "               mean_price  mean_mileage\n",
       "audi                 9643        128749\n",
       "mercedes_benz        8574        131147\n",
       "bmw                  8478        133031\n",
       "volkswagen           5780        128617\n",
       "ford                 3950        124620\n",
       "opel                 3374        128637"
      ]
     },
     "execution_count": 91,
     "metadata": {},
     "output_type": "execute_result"
    }
   ],
   "source": [
    "# We will calculate the mean price for each brand \n",
    "brands = top_six_brands.index\n",
    "\n",
    "brands_mean_prices = {}\n",
    "\n",
    "for brand in brands:\n",
    "    selected_rows = autos[autos['brand'] == brand]\n",
    "    mean = selected_rows[\"price\"].mean()\n",
    "    brands_mean_prices[brand] = int(mean)  \n",
    "\n",
    "#And also the mean mileage\n",
    "brands_mean_mileage = {}\n",
    "\n",
    "for brand in brands:\n",
    "    selected_rows = autos[autos['brand'] == brand]\n",
    "    mean = selected_rows[\"odometer_km\"].mean()\n",
    "    brands_mean_mileage[brand] = int(mean) \n",
    "\n",
    "    \n",
    "#At the end we will create an agregate dataframe\n",
    "bmp_series = pd.Series(brands_mean_prices)\n",
    "bmp_series = bmp_series.sort_values(ascending=False)\n",
    "bmm_series = pd.Series(brands_mean_mileage)\n",
    "\n",
    "df_mean = pd.DataFrame(bmp_series, columns=['mean_price'])\n",
    "df_mean['mean_mileage'] = bmm_series\n",
    "\n",
    "df_mean"
   ]
  },
  {
   "cell_type": "markdown",
   "metadata": {
    "collapsed": false
   },
   "source": [
    "Of the top 6 brands, there is a distinct price gap. We can notice that Audi, Mercedes and BMW are almost 50% expensiver as the Volkswagen, Ford and Opel even if there isn't a big difference in the mileage. "
   ]
  },
  {
   "cell_type": "markdown",
   "metadata": {},
   "source": [
    "### Conclusion"
   ]
  },
  {
   "cell_type": "markdown",
   "metadata": {},
   "source": [
    "If we want to a by a car on the German market we should decide how big is our budget. The eBay Klein Anzeige is a good place if we want ot buy a good used German car with the mileage above 120000 km and for a fair price. Depending on the gearbox type and the type of fuel, the price varies significantly. You should be ready to pay more for brands like Audi and Mercedes, but if you need a family car I recommend you a Volkswagen.  "
   ]
  }
 ],
 "metadata": {
  "kernelspec": {
   "display_name": "Python 3",
   "language": "python",
   "name": "python3"
  },
  "language_info": {
   "codemirror_mode": {
    "name": "ipython",
    "version": 3
   },
   "file_extension": ".py",
   "mimetype": "text/x-python",
   "name": "python",
   "nbconvert_exporter": "python",
   "pygments_lexer": "ipython3",
   "version": "3.4.3"
  }
 },
 "nbformat": 4,
 "nbformat_minor": 2
}
